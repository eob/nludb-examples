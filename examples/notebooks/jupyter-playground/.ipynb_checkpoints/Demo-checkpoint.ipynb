{
 "cells": [
  {
   "cell_type": "code",
   "execution_count": 35,
   "id": "92cb1a42",
   "metadata": {},
   "outputs": [],
   "source": [
    "# Imports\n",
    "from steamship import Steamship"
   ]
  },
  {
   "cell_type": "code",
   "execution_count": null,
   "id": "76bb0572",
   "metadata": {},
   "outputs": [],
   "source": []
  },
  {
   "cell_type": "code",
   "execution_count": 36,
   "id": "0cec1318",
   "metadata": {},
   "outputs": [],
   "source": [
    "# Create the client\n",
    "client = Steamship(\n",
    "  apiBase=\"http://127.0.0.1:8080/api/v1\",\n",
    "  appBase=\"http://127.0.0.1:8081\",\n",
    "  profile=\"test\"\n",
    ")"
   ]
  },
  {
   "cell_type": "markdown",
   "id": "f9a34298",
   "metadata": {},
   "source": [
    "# Plugins\n",
    "\n",
    "The Steamship engine treats every unit of processing as a plugin. You can add plugins to convert data, parse data, classify it, and so on.\n",
    "\n",
    "Let's take a look at the plugins configured on your current instance:"
   ]
  },
  {
   "cell_type": "code",
   "execution_count": 37,
   "id": "f54a62c3",
   "metadata": {},
   "outputs": [],
   "source": [
    "models = client.models.listPublic().data.models"
   ]
  },
  {
   "cell_type": "code",
   "execution_count": 44,
   "id": "92107023",
   "metadata": {},
   "outputs": [
    {
     "name": "stdout",
     "output_type": "stream",
     "text": [
      "[importer] - builtin-importer-valueOrData-v1\n",
      "[exporter] - test-exporter-v1\n",
      "[converter] - test-converter-v1\n",
      "[parser] - test-parser-v1\n",
      "[embedder] - test-embedder-v1\n",
      "[importer] - builtin-importer-url-v1\n",
      "[converter] - builtin-converter-blockJson-v1\n",
      "[parser] - sp_en_core_web_trf\n",
      "[embedder] - st_msmarco_distilbert_base_v3\n",
      "[importer] - test-importer-valueOrData-v1\n",
      "[converter] - markdown-converter-default-v1\n",
      "[embedder] - st_paraphrase_mpnet_base_v2\n",
      "[converter] - ocr_ms_vision_default\n",
      "[converter] - html-converter-default-v1\n",
      "[converter] - acr_assembly_default\n"
     ]
    }
   ],
   "source": [
    "for model in models:\n",
    "    print(\"[{}] - {}\".format(model.modelType, model.handle))"
   ]
  },
  {
   "cell_type": "markdown",
   "id": "75870efe",
   "metadata": {},
   "source": [
    "Let's add some models to use. Both of these are hosted on Sagemaker.\n",
    "* A parser (SpaCy EN)\n",
    "* An embedder (Bert-based)"
   ]
  },
  {
   "cell_type": "code",
   "execution_count": 45,
   "id": "18c5119d",
   "metadata": {},
   "outputs": [],
   "source": [
    "spacy = client.models.create(\n",
    "   handle='spacy',\n",
    "   description='Demo of loading spacy',\n",
    "   isPublic=False,\n",
    "   modelType='parser',\n",
    "   adapterType='steamshipSagemaker',\n",
    "   url='https://api-inference.huggingface.co/models/facebook/bart-large-mnli',\n",
    "   upsert=True\n",
    ").data"
   ]
  },
  {
   "cell_type": "markdown",
   "id": "088beb9f",
   "metadata": {},
   "source": [
    "# Uploading a File"
   ]
  },
  {
   "cell_type": "code",
   "execution_count": null,
   "id": "f38e701a",
   "metadata": {},
   "outputs": [],
   "source": []
  }
 ],
 "metadata": {
  "kernelspec": {
   "display_name": "jupyter-playground",
   "language": "python",
   "name": "jupyter-playground"
  },
  "language_info": {
   "codemirror_mode": {
    "name": "ipython",
    "version": 3
   },
   "file_extension": ".py",
   "mimetype": "text/x-python",
   "name": "python",
   "nbconvert_exporter": "python",
   "pygments_lexer": "ipython3",
   "version": "3.8.9"
  }
 },
 "nbformat": 4,
 "nbformat_minor": 5
}
